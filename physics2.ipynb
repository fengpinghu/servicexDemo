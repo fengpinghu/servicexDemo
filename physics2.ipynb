{
 "cells": [
  {
   "cell_type": "code",
   "execution_count": 1,
   "id": "016f991f-bed8-42b1-8b4e-8f3a56982683",
   "metadata": {
    "tags": []
   },
   "outputs": [],
   "source": [
    "# !pip install -U servicex-databinder"
   ]
  },
  {
   "cell_type": "code",
   "execution_count": 2,
   "id": "f196c8c6-59dd-4d7d-a21b-c19934c0358b",
   "metadata": {},
   "outputs": [
    {
     "name": "stderr",
     "output_type": "stream",
     "text": [
      "INFO - Loading DataBinder config file: config_example_uproot.yml\n",
      "INFO -   7 Samples and 7 ServiceX requests\n",
      "INFO - Deliver via ServiceX endpoint: https://servicex.af.uchicago.edu/\n"
     ]
    },
    {
     "data": {
      "application/json": {
       "ascii": false,
       "bar_format": "{l_bar}{bar}| {n_fmt}/{total_fmt} [{elapsed}]",
       "colour": null,
       "elapsed": 0.006292819976806641,
       "initial": 0,
       "n": 0,
       "ncols": null,
       "nrows": null,
       "postfix": null,
       "prefix": "single_top_tW__nomin...",
       "rate": null,
       "total": 9000000000,
       "unit": "file",
       "unit_divisor": 1000,
       "unit_scale": false
      },
      "application/vnd.jupyter.widget-view+json": {
       "model_id": "",
       "version_major": 2,
       "version_minor": 0
      },
      "text/plain": [
       "single_top_tW__nomin...:   0%|          | 0/9000000000.0 [00:00]"
      ]
     },
     "metadata": {},
     "output_type": "display_data"
    },
    {
     "data": {
      "application/json": {
       "ascii": false,
       "bar_format": "{l_bar}{bar}| {n_fmt}/{total_fmt} [{elapsed}]",
       "colour": null,
       "elapsed": 0.0047016143798828125,
       "initial": 0,
       "n": 0,
       "ncols": null,
       "nrows": null,
       "postfix": null,
       "prefix": "        single_top_tW__nomin... Downloaded",
       "rate": null,
       "total": 9000000000,
       "unit": "file",
       "unit_divisor": 1000,
       "unit_scale": false
      },
      "application/vnd.jupyter.widget-view+json": {
       "model_id": "",
       "version_major": 2,
       "version_minor": 0
      },
      "text/plain": [
       "        single_top_tW__nomin... Downloaded:   0%|          | 0/9000000000.0 [00:00]"
      ]
     },
     "metadata": {},
     "output_type": "display_data"
    },
    {
     "data": {
      "application/json": {
       "ascii": false,
       "bar_format": "{l_bar}{bar}| {n_fmt}/{total_fmt} [{elapsed}]",
       "colour": null,
       "elapsed": 0.0055084228515625,
       "initial": 0,
       "n": 0,
       "ncols": null,
       "nrows": null,
       "postfix": null,
       "prefix": "ttbar__PS_var - even...",
       "rate": null,
       "total": 9000000000,
       "unit": "file",
       "unit_divisor": 1000,
       "unit_scale": false
      },
      "application/vnd.jupyter.widget-view+json": {
       "model_id": "",
       "version_major": 2,
       "version_minor": 0
      },
      "text/plain": [
       "ttbar__PS_var - even...:   0%|          | 0/9000000000.0 [00:00]"
      ]
     },
     "metadata": {},
     "output_type": "display_data"
    },
    {
     "data": {
      "application/json": {
       "ascii": false,
       "bar_format": "{l_bar}{bar}| {n_fmt}/{total_fmt} [{elapsed}]",
       "colour": null,
       "elapsed": 0.0043430328369140625,
       "initial": 0,
       "n": 0,
       "ncols": null,
       "nrows": null,
       "postfix": null,
       "prefix": "        ttbar__PS_var - even... Downloaded",
       "rate": null,
       "total": 9000000000,
       "unit": "file",
       "unit_divisor": 1000,
       "unit_scale": false
      },
      "application/vnd.jupyter.widget-view+json": {
       "model_id": "",
       "version_major": 2,
       "version_minor": 0
      },
      "text/plain": [
       "        ttbar__PS_var - even... Downloaded:   0%|          | 0/9000000000.0 [00:00]"
      ]
     },
     "metadata": {},
     "output_type": "display_data"
    },
    {
     "data": {
      "application/json": {
       "ascii": false,
       "bar_format": "{l_bar}{bar}| {n_fmt}/{total_fmt} [{elapsed}]",
       "colour": null,
       "elapsed": 0.004525184631347656,
       "initial": 0,
       "n": 0,
       "ncols": null,
       "nrows": null,
       "postfix": null,
       "prefix": "ttbar__scaleup - eve...",
       "rate": null,
       "total": 9000000000,
       "unit": "file",
       "unit_divisor": 1000,
       "unit_scale": false
      },
      "application/vnd.jupyter.widget-view+json": {
       "model_id": "",
       "version_major": 2,
       "version_minor": 0
      },
      "text/plain": [
       "ttbar__scaleup - eve...:   0%|          | 0/9000000000.0 [00:00]"
      ]
     },
     "metadata": {},
     "output_type": "display_data"
    },
    {
     "data": {
      "application/json": {
       "ascii": false,
       "bar_format": "{l_bar}{bar}| {n_fmt}/{total_fmt} [{elapsed}]",
       "colour": null,
       "elapsed": 0.004091501235961914,
       "initial": 0,
       "n": 0,
       "ncols": null,
       "nrows": null,
       "postfix": null,
       "prefix": "        ttbar__scaleup - eve... Downloaded",
       "rate": null,
       "total": 9000000000,
       "unit": "file",
       "unit_divisor": 1000,
       "unit_scale": false
      },
      "application/vnd.jupyter.widget-view+json": {
       "model_id": "",
       "version_major": 2,
       "version_minor": 0
      },
      "text/plain": [
       "        ttbar__scaleup - eve... Downloaded:   0%|          | 0/9000000000.0 [00:00]"
      ]
     },
     "metadata": {},
     "output_type": "display_data"
    },
    {
     "data": {
      "application/json": {
       "ascii": false,
       "bar_format": "{l_bar}{bar}| {n_fmt}/{total_fmt} [{elapsed}]",
       "colour": null,
       "elapsed": 0.004637002944946289,
       "initial": 0,
       "n": 0,
       "ncols": null,
       "nrows": null,
       "postfix": null,
       "prefix": "single_top_s_chan__n...",
       "rate": null,
       "total": 9000000000,
       "unit": "file",
       "unit_divisor": 1000,
       "unit_scale": false
      },
      "application/vnd.jupyter.widget-view+json": {
       "model_id": "",
       "version_major": 2,
       "version_minor": 0
      },
      "text/plain": [
       "single_top_s_chan__n...:   0%|          | 0/9000000000.0 [00:00]"
      ]
     },
     "metadata": {},
     "output_type": "display_data"
    },
    {
     "data": {
      "application/json": {
       "ascii": false,
       "bar_format": "{l_bar}{bar}| {n_fmt}/{total_fmt} [{elapsed}]",
       "colour": null,
       "elapsed": 0.0037317276000976562,
       "initial": 0,
       "n": 0,
       "ncols": null,
       "nrows": null,
       "postfix": null,
       "prefix": "        single_top_s_chan__n... Downloaded",
       "rate": null,
       "total": 9000000000,
       "unit": "file",
       "unit_divisor": 1000,
       "unit_scale": false
      },
      "application/vnd.jupyter.widget-view+json": {
       "model_id": "",
       "version_major": 2,
       "version_minor": 0
      },
      "text/plain": [
       "        single_top_s_chan__n... Downloaded:   0%|          | 0/9000000000.0 [00:00]"
      ]
     },
     "metadata": {},
     "output_type": "display_data"
    },
    {
     "data": {
      "application/json": {
       "ascii": false,
       "bar_format": "{l_bar}{bar}| {n_fmt}/{total_fmt} [{elapsed}]",
       "colour": null,
       "elapsed": 0.00500178337097168,
       "initial": 0,
       "n": 0,
       "ncols": null,
       "nrows": null,
       "postfix": null,
       "prefix": "single_top_t_chan__n...",
       "rate": null,
       "total": 9000000000,
       "unit": "file",
       "unit_divisor": 1000,
       "unit_scale": false
      },
      "application/vnd.jupyter.widget-view+json": {
       "model_id": "",
       "version_major": 2,
       "version_minor": 0
      },
      "text/plain": [
       "single_top_t_chan__n...:   0%|          | 0/9000000000.0 [00:00]"
      ]
     },
     "metadata": {},
     "output_type": "display_data"
    },
    {
     "data": {
      "application/json": {
       "ascii": false,
       "bar_format": "{l_bar}{bar}| {n_fmt}/{total_fmt} [{elapsed}]",
       "colour": null,
       "elapsed": 0.004068851470947266,
       "initial": 0,
       "n": 0,
       "ncols": null,
       "nrows": null,
       "postfix": null,
       "prefix": "        single_top_t_chan__n... Downloaded",
       "rate": null,
       "total": 9000000000,
       "unit": "file",
       "unit_divisor": 1000,
       "unit_scale": false
      },
      "application/vnd.jupyter.widget-view+json": {
       "model_id": "",
       "version_major": 2,
       "version_minor": 0
      },
      "text/plain": [
       "        single_top_t_chan__n... Downloaded:   0%|          | 0/9000000000.0 [00:00]"
      ]
     },
     "metadata": {},
     "output_type": "display_data"
    },
    {
     "data": {
      "application/json": {
       "ascii": false,
       "bar_format": "{l_bar}{bar}| {n_fmt}/{total_fmt} [{elapsed}]",
       "colour": null,
       "elapsed": 0.004895448684692383,
       "initial": 0,
       "n": 0,
       "ncols": null,
       "nrows": null,
       "postfix": null,
       "prefix": "ttbar__nominal - eve...",
       "rate": null,
       "total": 9000000000,
       "unit": "file",
       "unit_divisor": 1000,
       "unit_scale": false
      },
      "application/vnd.jupyter.widget-view+json": {
       "model_id": "",
       "version_major": 2,
       "version_minor": 0
      },
      "text/plain": [
       "ttbar__nominal - eve...:   0%|          | 0/9000000000.0 [00:00]"
      ]
     },
     "metadata": {},
     "output_type": "display_data"
    },
    {
     "data": {
      "application/json": {
       "ascii": false,
       "bar_format": "{l_bar}{bar}| {n_fmt}/{total_fmt} [{elapsed}]",
       "colour": null,
       "elapsed": 0.003957986831665039,
       "initial": 0,
       "n": 0,
       "ncols": null,
       "nrows": null,
       "postfix": null,
       "prefix": "        ttbar__nominal - eve... Downloaded",
       "rate": null,
       "total": 9000000000,
       "unit": "file",
       "unit_divisor": 1000,
       "unit_scale": false
      },
      "application/vnd.jupyter.widget-view+json": {
       "model_id": "",
       "version_major": 2,
       "version_minor": 0
      },
      "text/plain": [
       "        ttbar__nominal - eve... Downloaded:   0%|          | 0/9000000000.0 [00:00]"
      ]
     },
     "metadata": {},
     "output_type": "display_data"
    },
    {
     "data": {
      "application/json": {
       "ascii": false,
       "bar_format": "{l_bar}{bar}| {n_fmt}/{total_fmt} [{elapsed}]",
       "colour": null,
       "elapsed": 0.0049932003021240234,
       "initial": 0,
       "n": 0,
       "ncols": null,
       "nrows": null,
       "postfix": null,
       "prefix": "wjets__nominal - eve...",
       "rate": null,
       "total": 9000000000,
       "unit": "file",
       "unit_divisor": 1000,
       "unit_scale": false
      },
      "application/vnd.jupyter.widget-view+json": {
       "model_id": "",
       "version_major": 2,
       "version_minor": 0
      },
      "text/plain": [
       "wjets__nominal - eve...:   0%|          | 0/9000000000.0 [00:00]"
      ]
     },
     "metadata": {},
     "output_type": "display_data"
    },
    {
     "data": {
      "application/json": {
       "ascii": false,
       "bar_format": "{l_bar}{bar}| {n_fmt}/{total_fmt} [{elapsed}]",
       "colour": null,
       "elapsed": 0.003806591033935547,
       "initial": 0,
       "n": 0,
       "ncols": null,
       "nrows": null,
       "postfix": null,
       "prefix": "        wjets__nominal - eve... Downloaded",
       "rate": null,
       "total": 9000000000,
       "unit": "file",
       "unit_divisor": 1000,
       "unit_scale": false
      },
      "application/vnd.jupyter.widget-view+json": {
       "model_id": "",
       "version_major": 2,
       "version_minor": 0
      },
      "text/plain": [
       "        wjets__nominal - eve... Downloaded:   0%|          | 0/9000000000.0 [00:00]"
      ]
     },
     "metadata": {},
     "output_type": "display_data"
    },
    {
     "name": "stderr",
     "output_type": "stream",
     "text": [
      "INFO -   single_top_tW__nominal | events | user.ivukotic:user.ivukotic.single_top_tW__nominal is delivered\n",
      "INFO -   single_top_s_chan__nominal | events | user.ivukotic:user.ivukotic.single_top_s_chan__nominal is delivered\n",
      "INFO -   ttbar__PS_var | events | user.ivukotic:user.ivukotic.ttbar__PS_var is delivered\n",
      "INFO -   ttbar__scaleup | events | user.ivukotic:user.ivukotic.ttbar__scaleup is delivered\n",
      "INFO -   single_top_t_chan__nominal | events | user.ivukotic:user.ivukotic.single_top_t_chan__nominal is delivered\n",
      "INFO -   wjets__nominal | events | user.ivukotic:user.ivukotic.wjets__nominal is delivered\n",
      "INFO -   ttbar__nominal | events | user.ivukotic:user.ivukotic.ttbar__nominal is delivered\n",
      "INFO - Delivered at /tmp/adf1\n",
      "INFO - YAML file containing delivered file paths: /tmp/adf1/out_uproot.yml\n"
     ]
    }
   ],
   "source": [
    "from servicex_databinder import DataBinder\n",
    "\n",
    "sx_db = DataBinder('config_example_uproot.yml')\n",
    "out = sx_db.deliver()"
   ]
  },
  {
   "cell_type": "code",
   "execution_count": 3,
   "id": "a5ecd03e-0136-43c8-bd96-79cc20e4b31a",
   "metadata": {},
   "outputs": [
    {
     "data": {
      "text/plain": [
       "dict_keys(['single_top_s_chan__nominal', 'single_top_tW__nominal', 'single_top_t_chan__nominal', 'ttbar__scaleup', 'ttbar__PS_var', 'ttbar__nominal', 'wjets__nominal'])"
      ]
     },
     "execution_count": 3,
     "metadata": {},
     "output_type": "execute_result"
    }
   ],
   "source": [
    "sx_db.get_failed_requests()\n",
    "out.keys()"
   ]
  },
  {
   "cell_type": "code",
   "execution_count": 10,
   "id": "a3b05cfe-adcb-4325-996f-7ed27e359b10",
   "metadata": {
    "tags": []
   },
   "outputs": [
    {
     "data": {
      "text/plain": [
       "'/tmp/adf1/single_top_s_chan__nominal/events/root___eosatlas.cern.ch_1094__eos_atlas_atlasscratchdisk_rucio_user_ivukotic_31_73_8AA284AC-1D0B-E611-82C6-B9902C3160DF.root.parquet'"
      ]
     },
     "execution_count": 10,
     "metadata": {},
     "output_type": "execute_result"
    }
   ],
   "source": [
    "out['single_top_s_chan__nominal']['events'][0]"
   ]
  },
  {
   "cell_type": "code",
   "execution_count": 4,
   "id": "680c7914-bc9b-4da1-b5f6-4880575f5b88",
   "metadata": {},
   "outputs": [],
   "source": [
    "import awkward as ak\n",
    "import matplotlib.pyplot as plt"
   ]
  },
  {
   "cell_type": "code",
   "execution_count": 18,
   "id": "ee91b16b-ea17-42fb-9acd-58fc200a2124",
   "metadata": {},
   "outputs": [
    {
     "data": {
      "text/plain": [
       "<Array [{electron_e: [0.00261], ... 181]}] type='16800 * {\"electron_e\": var * fl...'>"
      ]
     },
     "execution_count": 18,
     "metadata": {},
     "output_type": "execute_result"
    }
   ],
   "source": [
    "table=ak.from_parquet(out['single_top_s_chan__nominal']['events'][0])\n",
    "table"
   ]
  },
  {
   "cell_type": "code",
   "execution_count": 17,
   "id": "5ca6a67c-bcc4-4b11-8a03-47b923248630",
   "metadata": {},
   "outputs": [
    {
     "data": {
      "text/plain": [
       "Text(0.5, 0, 'electrong $p_T$ [GeV]')"
      ]
     },
     "execution_count": 17,
     "metadata": {},
     "output_type": "execute_result"
    },
    {
     "data": {
      "image/png": "[encoded data removed]",
      "text/plain": [
       "<Figure size 400x300 with 1 Axes>"
      ]
     },
     "metadata": {},
     "output_type": "display_data"
    }
   ],
   "source": [
    "plt.figure(figsize=(4,3))\n",
    "plt.hist(ak.flatten(table.electron_pt), bins=50, range=(0,2e2))\n",
    "plt.xlabel('electrong $p_T$ [GeV]')"
   ]
  },
  {
   "cell_type": "code",
   "execution_count": null,
   "id": "c1d4506c-e52d-4398-b960-884868267777",
   "metadata": {},
   "outputs": [],
   "source": []
  },
  {
   "cell_type": "code",
   "execution_count": null,
   "id": "d4989a66-c047-4ffa-bb35-2ef544835d1c",
   "metadata": {},
   "outputs": [],
   "source": []
  },
  {
   "cell_type": "code",
   "execution_count": null,
   "id": "e6533be3-ead6-4756-b88b-d6e462cc3129",
   "metadata": {},
   "outputs": [],
   "source": []
  },
  {
   "cell_type": "code",
   "execution_count": null,
   "id": "73c4aee3-7fa4-462a-942f-07fc1bbbe943",
   "metadata": {},
   "outputs": [],
   "source": [
    "# !pip install update -U servicex==3.0.0a8"
   ]
  },
  {
   "cell_type": "code",
   "execution_count": null,
   "id": "d6cd8f3a-abbd-4830-8c9e-a57d22731b75",
   "metadata": {},
   "outputs": [],
   "source": []
  }
 ],
 "metadata": {
  "kernelspec": {
   "display_name": "Python 3 (ipykernel)",
   "language": "python",
   "name": "python3"
  },
  "language_info": {
   "codemirror_mode": {
    "name": "ipython",
    "version": 3
   },
   "file_extension": ".py",
   "mimetype": "text/x-python",
   "name": "python",
   "nbconvert_exporter": "python",
   "pygments_lexer": "ipython3",
   "version": "3.8.16"
  }
 },
 "nbformat": 4,
 "nbformat_minor": 5
}
