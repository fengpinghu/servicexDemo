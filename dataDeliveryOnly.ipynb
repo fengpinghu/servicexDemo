{
 "cells": [
  {
   "cell_type": "code",
   "execution_count": null,
   "id": "016f991f-bed8-42b1-8b4e-8f3a56982683",
   "metadata": {
    "tags": []
   },
   "outputs": [],
   "source": [
    " !pip install -U servicex-databinder"
   ]
  },
  {
   "cell_type": "code",
   "execution_count": null,
   "id": "f196c8c6-59dd-4d7d-a21b-c19934c0358b",
   "metadata": {
    "tags": []
   },
   "outputs": [],
   "source": [
    "from servicex_databinder import DataBinder\n",
    "sx_db = DataBinder('config_example_uproot.yml')\n",
    "out = sx_db.deliver()"
   ]
  },
  {
   "cell_type": "code",
   "execution_count": null,
   "id": "a5ecd03e-0136-43c8-bd96-79cc20e4b31a",
   "metadata": {
    "tags": []
   },
   "outputs": [],
   "source": [
    "sx_db.get_failed_requests()"
   ]
  },
  {
   "cell_type": "code",
   "execution_count": null,
   "id": "73c4aee3-7fa4-462a-942f-07fc1bbbe943",
   "metadata": {},
   "outputs": [],
   "source": [
    "# !pip install update -U servicex==3.0.0a8"
   ]
  },
  {
   "cell_type": "code",
   "execution_count": null,
   "id": "d6cd8f3a-abbd-4830-8c9e-a57d22731b75",
   "metadata": {},
   "outputs": [],
   "source": []
  }
 ],
 "metadata": {
  "kernelspec": {
   "display_name": "Python 3 (ipykernel)",
   "language": "python",
   "name": "python3"
  },
  "language_info": {
   "codemirror_mode": {
    "name": "ipython",
    "version": 3
   },
   "file_extension": ".py",
   "mimetype": "text/x-python",
   "name": "python",
   "nbconvert_exporter": "python",
   "pygments_lexer": "ipython3",
   "version": "3.8.16"
  }
 },
 "nbformat": 4,
 "nbformat_minor": 5
}
