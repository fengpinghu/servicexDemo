{
 "cells": [
  {
   "cell_type": "code",
   "execution_count": 1,
   "id": "016f991f-bed8-42b1-8b4e-8f3a56982683",
   "metadata": {
    "tags": []
   },
   "outputs": [
    {
     "name": "stdout",
     "output_type": "stream",
     "text": [
      "Requirement already satisfied: servicex-databinder in /opt/conda/lib/python3.8/site-packages (0.3.0)\n",
      "Collecting servicex-databinder\n",
      "  Using cached servicex_databinder-0.5.0-py3-none-any.whl (19 kB)\n",
      "Requirement already satisfied: func-adl-servicex>=2.2 in /opt/conda/lib/python3.8/site-packages (from servicex-databinder) (2.2)\n",
      "Requirement already satisfied: backoff>=1.11.1 in /opt/conda/lib/python3.8/site-packages (from servicex-databinder) (2.2.1)\n",
      "Requirement already satisfied: servicex>=2.6.2 in /opt/conda/lib/python3.8/site-packages (from servicex-databinder) (2.6.2)\n",
      "Requirement already satisfied: pyarrow>=3.0.0 in /opt/conda/lib/python3.8/site-packages (from servicex-databinder) (11.0.0)\n",
      "Requirement already satisfied: tcut-to-qastle>=0.7 in /opt/conda/lib/python3.8/site-packages (from servicex-databinder) (0.7)\n",
      "Requirement already satisfied: nest-asyncio>=1.5.1 in /opt/conda/lib/python3.8/site-packages (from servicex-databinder) (1.5.6)\n",
      "Requirement already satisfied: tqdm>=4.60.0 in /opt/conda/lib/python3.8/site-packages (from servicex-databinder) (4.62.3)\n",
      "Requirement already satisfied: func-adl>=3.2 in /opt/conda/lib/python3.8/site-packages (from func-adl-servicex>=2.2->servicex-databinder) (3.2.4)\n",
      "Requirement already satisfied: qastle>=0.10 in /opt/conda/lib/python3.8/site-packages (from func-adl-servicex>=2.2->servicex-databinder) (0.16.0)\n",
      "Requirement already satisfied: numpy>=1.16.6 in /opt/conda/lib/python3.8/site-packages (from pyarrow>=3.0.0->servicex-databinder) (1.23.5)\n",
      "Requirement already satisfied: uproot<5,>=4.0.1 in /opt/conda/lib/python3.8/site-packages (from servicex>=2.6.2->servicex-databinder) (4.3.7)\n",
      "Requirement already satisfied: awkward<2,>=1.0.1 in /opt/conda/lib/python3.8/site-packages (from servicex>=2.6.2->servicex-databinder) (1.10.3)\n",
      "Requirement already satisfied: idna==2.10 in /opt/conda/lib/python3.8/site-packages (from servicex>=2.6.2->servicex-databinder) (2.10)\n",
      "Requirement already satisfied: aiohttp~=3.6 in /opt/conda/lib/python3.8/site-packages (from servicex>=2.6.2->servicex-databinder) (3.8.4)\n",
      "Requirement already satisfied: make-it-sync>=1.0.0 in /opt/conda/lib/python3.8/site-packages (from servicex>=2.6.2->servicex-databinder) (1.0.0)\n",
      "Requirement already satisfied: confuse in /opt/conda/lib/python3.8/site-packages (from servicex>=2.6.2->servicex-databinder) (2.0.1)\n",
      "Requirement already satisfied: google-auth in /opt/conda/lib/python3.8/site-packages (from servicex>=2.6.2->servicex-databinder) (2.17.2)\n",
      "Requirement already satisfied: pandas~=1.0 in /opt/conda/lib/python3.8/site-packages (from servicex>=2.6.2->servicex-databinder) (1.5.3)\n",
      "Requirement already satisfied: minio~=5.0 in /opt/conda/lib/python3.8/site-packages (from servicex>=2.6.2->servicex-databinder) (5.0.10)\n",
      "Requirement already satisfied: aiosignal>=1.1.2 in /opt/conda/lib/python3.8/site-packages (from aiohttp~=3.6->servicex>=2.6.2->servicex-databinder) (1.3.1)\n",
      "Requirement already satisfied: yarl<2.0,>=1.0 in /opt/conda/lib/python3.8/site-packages (from aiohttp~=3.6->servicex>=2.6.2->servicex-databinder) (1.8.2)\n",
      "Requirement already satisfied: attrs>=17.3.0 in /opt/conda/lib/python3.8/site-packages (from aiohttp~=3.6->servicex>=2.6.2->servicex-databinder) (22.2.0)\n",
      "Requirement already satisfied: async-timeout<5.0,>=4.0.0a3 in /opt/conda/lib/python3.8/site-packages (from aiohttp~=3.6->servicex>=2.6.2->servicex-databinder) (4.0.2)\n",
      "Requirement already satisfied: frozenlist>=1.1.1 in /opt/conda/lib/python3.8/site-packages (from aiohttp~=3.6->servicex>=2.6.2->servicex-databinder) (1.3.3)\n",
      "Requirement already satisfied: charset-normalizer<4.0,>=2.0 in /opt/conda/lib/python3.8/site-packages (from aiohttp~=3.6->servicex>=2.6.2->servicex-databinder) (2.0.9)\n",
      "Requirement already satisfied: multidict<7.0,>=4.5 in /opt/conda/lib/python3.8/site-packages (from aiohttp~=3.6->servicex>=2.6.2->servicex-databinder) (6.0.4)\n",
      "Requirement already satisfied: packaging in /opt/conda/lib/python3.8/site-packages (from awkward<2,>=1.0.1->servicex>=2.6.2->servicex-databinder) (23.0)\n",
      "Requirement already satisfied: importlib-resources in /opt/conda/lib/python3.8/site-packages (from awkward<2,>=1.0.1->servicex>=2.6.2->servicex-databinder) (5.12.0)\n",
      "Requirement already satisfied: pytz in /opt/conda/lib/python3.8/site-packages (from minio~=5.0->servicex>=2.6.2->servicex-databinder) (2022.7.1)\n",
      "Requirement already satisfied: urllib3 in /opt/conda/lib/python3.8/site-packages (from minio~=5.0->servicex>=2.6.2->servicex-databinder) (1.26.7)\n",
      "Requirement already satisfied: python-dateutil in /opt/conda/lib/python3.8/site-packages (from minio~=5.0->servicex>=2.6.2->servicex-databinder) (2.8.2)\n",
      "Requirement already satisfied: configparser in /opt/conda/lib/python3.8/site-packages (from minio~=5.0->servicex>=2.6.2->servicex-databinder) (5.3.0)\n",
      "Requirement already satisfied: certifi in /opt/conda/lib/python3.8/site-packages (from minio~=5.0->servicex>=2.6.2->servicex-databinder) (2022.12.7)\n",
      "Requirement already satisfied: lark-parser>=0.6.5 in /opt/conda/lib/python3.8/site-packages (from qastle>=0.10->func-adl-servicex>=2.2->servicex-databinder) (0.12.0)\n",
      "Requirement already satisfied: setuptools in /opt/conda/lib/python3.8/site-packages (from uproot<5,>=4.0.1->servicex>=2.6.2->servicex-databinder) (65.6.3)\n",
      "Requirement already satisfied: pyyaml in /opt/conda/lib/python3.8/site-packages (from confuse->servicex>=2.6.2->servicex-databinder) (6.0)\n",
      "Requirement already satisfied: rsa<5,>=3.1.4 in /opt/conda/lib/python3.8/site-packages (from google-auth->servicex>=2.6.2->servicex-databinder) (4.9)\n",
      "Requirement already satisfied: cachetools<6.0,>=2.0.0 in /opt/conda/lib/python3.8/site-packages (from google-auth->servicex>=2.6.2->servicex-databinder) (5.3.0)\n",
      "Requirement already satisfied: pyasn1-modules>=0.2.1 in /opt/conda/lib/python3.8/site-packages (from google-auth->servicex>=2.6.2->servicex-databinder) (0.2.8)\n",
      "Requirement already satisfied: six>=1.9.0 in /opt/conda/lib/python3.8/site-packages (from google-auth->servicex>=2.6.2->servicex-databinder) (1.16.0)\n",
      "Requirement already satisfied: pyasn1<0.5.0,>=0.4.6 in /opt/conda/lib/python3.8/site-packages (from pyasn1-modules>=0.2.1->google-auth->servicex>=2.6.2->servicex-databinder) (0.4.8)\n",
      "Requirement already satisfied: zipp>=3.1.0 in /opt/conda/lib/python3.8/site-packages (from importlib-resources->awkward<2,>=1.0.1->servicex>=2.6.2->servicex-databinder) (3.15.0)\n",
      "Installing collected packages: servicex-databinder\n",
      "  Attempting uninstall: servicex-databinder\n",
      "    Found existing installation: servicex-databinder 0.3.0\n",
      "    Uninstalling servicex-databinder-0.3.0:\n",
      "      Successfully uninstalled servicex-databinder-0.3.0\n",
      "Successfully installed servicex-databinder-0.5.0\n"
     ]
    }
   ],
   "source": [
    " !pip install -U servicex-databinder"
   ]
  },
  {
   "cell_type": "code",
   "execution_count": 2,
   "id": "f196c8c6-59dd-4d7d-a21b-c19934c0358b",
   "metadata": {
    "tags": []
   },
   "outputs": [
    {
     "name": "stderr",
     "output_type": "stream",
     "text": [
      "INFO - Loading DataBinder config file: config_example_uproot.yml\n",
      "INFO -   7 Samples and 7 ServiceX requests\n",
      "INFO - Deliver via ServiceX endpoint: https://servicex.af.uchicago.edu/\n"
     ]
    },
    {
     "data": {
      "application/json": {
       "ascii": false,
       "bar_format": "{l_bar}{bar}| {n_fmt}/{total_fmt} [{elapsed}]",
       "colour": null,
       "elapsed": 0.00703883171081543,
       "initial": 0,
       "n": 0,
       "ncols": null,
       "nrows": null,
       "postfix": null,
       "prefix": "single_top_tW__nomin...",
       "rate": null,
       "total": 9000000000,
       "unit": "file",
       "unit_divisor": 1000,
       "unit_scale": false
      },
      "application/vnd.jupyter.widget-view+json": {
       "model_id": "",
       "version_major": 2,
       "version_minor": 0
      },
      "text/plain": [
       "single_top_tW__nomin...:   0%|          | 0/9000000000.0 [00:00]"
      ]
     },
     "metadata": {},
     "output_type": "display_data"
    },
    {
     "data": {
      "application/json": {
       "ascii": false,
       "bar_format": "{l_bar}{bar}| {n_fmt}/{total_fmt} [{elapsed}]",
       "colour": null,
       "elapsed": 0.004153728485107422,
       "initial": 0,
       "n": 0,
       "ncols": null,
       "nrows": null,
       "postfix": null,
       "prefix": "        single_top_tW__nomin... Downloaded",
       "rate": null,
       "total": 9000000000,
       "unit": "file",
       "unit_divisor": 1000,
       "unit_scale": false
      },
      "application/vnd.jupyter.widget-view+json": {
       "model_id": "",
       "version_major": 2,
       "version_minor": 0
      },
      "text/plain": [
       "        single_top_tW__nomin... Downloaded:   0%|          | 0/9000000000.0 [00:00]"
      ]
     },
     "metadata": {},
     "output_type": "display_data"
    },
    {
     "data": {
      "application/json": {
       "ascii": false,
       "bar_format": "{l_bar}{bar}| {n_fmt}/{total_fmt} [{elapsed}]",
       "colour": null,
       "elapsed": 0.0049893856048583984,
       "initial": 0,
       "n": 0,
       "ncols": null,
       "nrows": null,
       "postfix": null,
       "prefix": "single_top_s_chan__n...",
       "rate": null,
       "total": 9000000000,
       "unit": "file",
       "unit_divisor": 1000,
       "unit_scale": false
      },
      "application/vnd.jupyter.widget-view+json": {
       "model_id": "",
       "version_major": 2,
       "version_minor": 0
      },
      "text/plain": [
       "single_top_s_chan__n...:   0%|          | 0/9000000000.0 [00:00]"
      ]
     },
     "metadata": {},
     "output_type": "display_data"
    },
    {
     "data": {
      "application/json": {
       "ascii": false,
       "bar_format": "{l_bar}{bar}| {n_fmt}/{total_fmt} [{elapsed}]",
       "colour": null,
       "elapsed": 0.004708528518676758,
       "initial": 0,
       "n": 0,
       "ncols": null,
       "nrows": null,
       "postfix": null,
       "prefix": "        single_top_s_chan__n... Downloaded",
       "rate": null,
       "total": 9000000000,
       "unit": "file",
       "unit_divisor": 1000,
       "unit_scale": false
      },
      "application/vnd.jupyter.widget-view+json": {
       "model_id": "",
       "version_major": 2,
       "version_minor": 0
      },
      "text/plain": [
       "        single_top_s_chan__n... Downloaded:   0%|          | 0/9000000000.0 [00:00]"
      ]
     },
     "metadata": {},
     "output_type": "display_data"
    },
    {
     "data": {
      "application/json": {
       "ascii": false,
       "bar_format": "{l_bar}{bar}| {n_fmt}/{total_fmt} [{elapsed}]",
       "colour": null,
       "elapsed": 0.0044476985931396484,
       "initial": 0,
       "n": 0,
       "ncols": null,
       "nrows": null,
       "postfix": null,
       "prefix": "ttbar__PS_var - even...",
       "rate": null,
       "total": 9000000000,
       "unit": "file",
       "unit_divisor": 1000,
       "unit_scale": false
      },
      "application/vnd.jupyter.widget-view+json": {
       "model_id": "",
       "version_major": 2,
       "version_minor": 0
      },
      "text/plain": [
       "ttbar__PS_var - even...:   0%|          | 0/9000000000.0 [00:00]"
      ]
     },
     "metadata": {},
     "output_type": "display_data"
    },
    {
     "data": {
      "application/json": {
       "ascii": false,
       "bar_format": "{l_bar}{bar}| {n_fmt}/{total_fmt} [{elapsed}]",
       "colour": null,
       "elapsed": 0.0041790008544921875,
       "initial": 0,
       "n": 0,
       "ncols": null,
       "nrows": null,
       "postfix": null,
       "prefix": "        ttbar__PS_var - even... Downloaded",
       "rate": null,
       "total": 9000000000,
       "unit": "file",
       "unit_divisor": 1000,
       "unit_scale": false
      },
      "application/vnd.jupyter.widget-view+json": {
       "model_id": "",
       "version_major": 2,
       "version_minor": 0
      },
      "text/plain": [
       "        ttbar__PS_var - even... Downloaded:   0%|          | 0/9000000000.0 [00:00]"
      ]
     },
     "metadata": {},
     "output_type": "display_data"
    },
    {
     "data": {
      "application/json": {
       "ascii": false,
       "bar_format": "{l_bar}{bar}| {n_fmt}/{total_fmt} [{elapsed}]",
       "colour": null,
       "elapsed": 0.004240512847900391,
       "initial": 0,
       "n": 0,
       "ncols": null,
       "nrows": null,
       "postfix": null,
       "prefix": "ttbar__scaleup - eve...",
       "rate": null,
       "total": 9000000000,
       "unit": "file",
       "unit_divisor": 1000,
       "unit_scale": false
      },
      "application/vnd.jupyter.widget-view+json": {
       "model_id": "",
       "version_major": 2,
       "version_minor": 0
      },
      "text/plain": [
       "ttbar__scaleup - eve...:   0%|          | 0/9000000000.0 [00:00]"
      ]
     },
     "metadata": {},
     "output_type": "display_data"
    },
    {
     "data": {
      "application/json": {
       "ascii": false,
       "bar_format": "{l_bar}{bar}| {n_fmt}/{total_fmt} [{elapsed}]",
       "colour": null,
       "elapsed": 0.0038557052612304688,
       "initial": 0,
       "n": 0,
       "ncols": null,
       "nrows": null,
       "postfix": null,
       "prefix": "        ttbar__scaleup - eve... Downloaded",
       "rate": null,
       "total": 9000000000,
       "unit": "file",
       "unit_divisor": 1000,
       "unit_scale": false
      },
      "application/vnd.jupyter.widget-view+json": {
       "model_id": "",
       "version_major": 2,
       "version_minor": 0
      },
      "text/plain": [
       "        ttbar__scaleup - eve... Downloaded:   0%|          | 0/9000000000.0 [00:00]"
      ]
     },
     "metadata": {},
     "output_type": "display_data"
    },
    {
     "data": {
      "application/json": {
       "ascii": false,
       "bar_format": "{l_bar}{bar}| {n_fmt}/{total_fmt} [{elapsed}]",
       "colour": null,
       "elapsed": 0.004839897155761719,
       "initial": 0,
       "n": 0,
       "ncols": null,
       "nrows": null,
       "postfix": null,
       "prefix": "single_top_t_chan__n...",
       "rate": null,
       "total": 9000000000,
       "unit": "file",
       "unit_divisor": 1000,
       "unit_scale": false
      },
      "application/vnd.jupyter.widget-view+json": {
       "model_id": "",
       "version_major": 2,
       "version_minor": 0
      },
      "text/plain": [
       "single_top_t_chan__n...:   0%|          | 0/9000000000.0 [00:00]"
      ]
     },
     "metadata": {},
     "output_type": "display_data"
    },
    {
     "data": {
      "application/json": {
       "ascii": false,
       "bar_format": "{l_bar}{bar}| {n_fmt}/{total_fmt} [{elapsed}]",
       "colour": null,
       "elapsed": 0.004167318344116211,
       "initial": 0,
       "n": 0,
       "ncols": null,
       "nrows": null,
       "postfix": null,
       "prefix": "        single_top_t_chan__n... Downloaded",
       "rate": null,
       "total": 9000000000,
       "unit": "file",
       "unit_divisor": 1000,
       "unit_scale": false
      },
      "application/vnd.jupyter.widget-view+json": {
       "model_id": "",
       "version_major": 2,
       "version_minor": 0
      },
      "text/plain": [
       "        single_top_t_chan__n... Downloaded:   0%|          | 0/9000000000.0 [00:00]"
      ]
     },
     "metadata": {},
     "output_type": "display_data"
    },
    {
     "data": {
      "application/json": {
       "ascii": false,
       "bar_format": "{l_bar}{bar}| {n_fmt}/{total_fmt} [{elapsed}]",
       "colour": null,
       "elapsed": 0.004898786544799805,
       "initial": 0,
       "n": 0,
       "ncols": null,
       "nrows": null,
       "postfix": null,
       "prefix": "ttbar__nominal - eve...",
       "rate": null,
       "total": 9000000000,
       "unit": "file",
       "unit_divisor": 1000,
       "unit_scale": false
      },
      "application/vnd.jupyter.widget-view+json": {
       "model_id": "",
       "version_major": 2,
       "version_minor": 0
      },
      "text/plain": [
       "ttbar__nominal - eve...:   0%|          | 0/9000000000.0 [00:00]"
      ]
     },
     "metadata": {},
     "output_type": "display_data"
    },
    {
     "data": {
      "application/json": {
       "ascii": false,
       "bar_format": "{l_bar}{bar}| {n_fmt}/{total_fmt} [{elapsed}]",
       "colour": null,
       "elapsed": 0.004080533981323242,
       "initial": 0,
       "n": 0,
       "ncols": null,
       "nrows": null,
       "postfix": null,
       "prefix": "        ttbar__nominal - eve... Downloaded",
       "rate": null,
       "total": 9000000000,
       "unit": "file",
       "unit_divisor": 1000,
       "unit_scale": false
      },
      "application/vnd.jupyter.widget-view+json": {
       "model_id": "",
       "version_major": 2,
       "version_minor": 0
      },
      "text/plain": [
       "        ttbar__nominal - eve... Downloaded:   0%|          | 0/9000000000.0 [00:00]"
      ]
     },
     "metadata": {},
     "output_type": "display_data"
    },
    {
     "data": {
      "application/json": {
       "ascii": false,
       "bar_format": "{l_bar}{bar}| {n_fmt}/{total_fmt} [{elapsed}]",
       "colour": null,
       "elapsed": 0.005255460739135742,
       "initial": 0,
       "n": 0,
       "ncols": null,
       "nrows": null,
       "postfix": null,
       "prefix": "wjets__nominal - eve...",
       "rate": null,
       "total": 9000000000,
       "unit": "file",
       "unit_divisor": 1000,
       "unit_scale": false
      },
      "application/vnd.jupyter.widget-view+json": {
       "model_id": "",
       "version_major": 2,
       "version_minor": 0
      },
      "text/plain": [
       "wjets__nominal - eve...:   0%|          | 0/9000000000.0 [00:00]"
      ]
     },
     "metadata": {},
     "output_type": "display_data"
    },
    {
     "data": {
      "application/json": {
       "ascii": false,
       "bar_format": "{l_bar}{bar}| {n_fmt}/{total_fmt} [{elapsed}]",
       "colour": null,
       "elapsed": 0.004281044006347656,
       "initial": 0,
       "n": 0,
       "ncols": null,
       "nrows": null,
       "postfix": null,
       "prefix": "        wjets__nominal - eve... Downloaded",
       "rate": null,
       "total": 9000000000,
       "unit": "file",
       "unit_divisor": 1000,
       "unit_scale": false
      },
      "application/vnd.jupyter.widget-view+json": {
       "model_id": "",
       "version_major": 2,
       "version_minor": 0
      },
      "text/plain": [
       "        wjets__nominal - eve... Downloaded:   0%|          | 0/9000000000.0 [00:00]"
      ]
     },
     "metadata": {},
     "output_type": "display_data"
    },
    {
     "name": "stderr",
     "output_type": "stream",
     "text": [
      "INFO -   single_top_tW__nominal | events | user.ivukotic:user.ivukotic.single_top_tW__nominal is delivered\n",
      "INFO -   single_top_s_chan__nominal | events | user.ivukotic:user.ivukotic.single_top_s_chan__nominal is delivered\n",
      "INFO -   ttbar__PS_var | events | user.ivukotic:user.ivukotic.ttbar__PS_var is delivered\n",
      "INFO -   ttbar__scaleup | events | user.ivukotic:user.ivukotic.ttbar__scaleup is delivered\n",
      "INFO -   single_top_t_chan__nominal | events | user.ivukotic:user.ivukotic.single_top_t_chan__nominal is delivered\n",
      "INFO -   ttbar__nominal | events | user.ivukotic:user.ivukotic.ttbar__nominal is delivered\n",
      "INFO -   wjets__nominal | events | user.ivukotic:user.ivukotic.wjets__nominal is delivered\n",
      "INFO - Delivered at /tmp/adf1\n",
      "INFO - YAML file containing delivered file paths: /tmp/adf1/out_uproot.yml\n"
     ]
    }
   ],
   "source": [
    "from servicex_databinder import DataBinder\n",
    "sx_db = DataBinder('config_example_uproot-ddo.yml')\n",
    "out = sx_db.deliver()"
   ]
  },
  {
   "cell_type": "code",
   "execution_count": 3,
   "id": "a5ecd03e-0136-43c8-bd96-79cc20e4b31a",
   "metadata": {
    "tags": []
   },
   "outputs": [
    {
     "data": {
      "text/plain": [
       "[]"
      ]
     },
     "execution_count": 3,
     "metadata": {},
     "output_type": "execute_result"
    }
   ],
   "source": [
    "sx_db.get_failed_requests()"
   ]
  },
  {
   "cell_type": "code",
   "execution_count": null,
   "id": "d6cd8f3a-abbd-4830-8c9e-a57d22731b75",
   "metadata": {},
   "outputs": [],
   "source": []
  }
 ],
 "metadata": {
  "kernelspec": {
   "display_name": "Python 3 (ipykernel)",
   "language": "python",
   "name": "python3"
  },
  "language_info": {
   "codemirror_mode": {
    "name": "ipython",
    "version": 3
   },
   "file_extension": ".py",
   "mimetype": "text/x-python",
   "name": "python",
   "nbconvert_exporter": "python",
   "pygments_lexer": "ipython3",
   "version": "3.8.16"
  }
 },
 "nbformat": 4,
 "nbformat_minor": 5
}
